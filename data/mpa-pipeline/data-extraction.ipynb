{
 "cells": [
  {
   "cell_type": "code",
   "execution_count": 1,
   "id": "efa68d98",
   "metadata": {
    "ExecuteTime": {
     "end_time": "2022-05-05T16:57:31.978215Z",
     "start_time": "2022-05-05T16:57:31.814121Z"
    }
   },
   "outputs": [],
   "source": [
    "import os\n",
    "import random\n",
    "import warnings\n",
    "import numpy as np\n",
    "import pandas as pd\n",
    "import pickle as pkl\n",
    "import multiprocessing"
   ]
  },
  {
   "cell_type": "code",
   "execution_count": 2,
   "id": "46691a3e",
   "metadata": {
    "ExecuteTime": {
     "end_time": "2022-05-05T16:57:43.035381Z",
     "start_time": "2022-05-05T16:57:43.032557Z"
    }
   },
   "outputs": [],
   "source": [
    "from aisdb import DBQuery\n",
    "from datetime import datetime\n",
    "from aisdb.track_gen import TrackGen\n",
    "from aisdb.database import sqlfcn_callbacks\n",
    "from tqdm.contrib.concurrent import process_map"
   ]
  },
  {
   "cell_type": "code",
   "execution_count": 3,
   "id": "2ea92969",
   "metadata": {
    "ExecuteTime": {
     "end_time": "2022-05-05T16:57:32.097234Z",
     "start_time": "2022-05-05T16:57:32.095202Z"
    }
   },
   "outputs": [],
   "source": [
    "warnings.filterwarnings(\"ignore\")"
   ]
  },
  {
   "cell_type": "code",
   "execution_count": 4,
   "id": "2d204b3b",
   "metadata": {
    "ExecuteTime": {
     "end_time": "2022-05-05T16:57:32.105305Z",
     "start_time": "2022-05-05T16:57:32.098513Z"
    }
   },
   "outputs": [],
   "source": [
    "random_seed = 845369\n",
    "random.seed(random_seed)\n",
    "np.random.seed(random_seed)"
   ]
  },
  {
   "cell_type": "code",
   "execution_count": 5,
   "id": "c93f7b9f",
   "metadata": {
    "ExecuteTime": {
     "end_time": "2022-05-05T16:57:32.108697Z",
     "start_time": "2022-05-05T16:57:32.106345Z"
    }
   },
   "outputs": [],
   "source": [
    "if not os.path.exists(\"pkl/\"):\n",
    "    os.makedirs(\"pkl/\")"
   ]
  },
  {
   "cell_type": "code",
   "execution_count": 6,
   "id": "773bdbfa",
   "metadata": {},
   "outputs": [],
   "source": [
    "if not os.path.exists(\"csv/\"):\n",
    "    os.makedirs(\"csv/\")"
   ]
  },
  {
   "cell_type": "code",
   "execution_count": 7,
   "id": "fb974b3e",
   "metadata": {
    "ExecuteTime": {
     "end_time": "2022-05-05T16:57:32.116178Z",
     "start_time": "2022-05-05T16:57:32.109892Z"
    }
   },
   "outputs": [],
   "source": [
    "mpa_locations = pd.read_csv(\"./mpa-locations.csv\", index_col=0, encoding=\"latin-1\")\n",
    "mpa_locations = mpa_locations[[\"Shape_Area\", \"LONG\", \"LAT\"]]"
   ]
  },
  {
   "cell_type": "code",
   "execution_count": 8,
   "id": "05340f22",
   "metadata": {
    "ExecuteTime": {
     "end_time": "2022-05-05T16:57:32.119664Z",
     "start_time": "2022-05-05T16:57:32.117423Z"
    }
   },
   "outputs": [],
   "source": [
    "temporal_range = [\n",
    "#     (2015, datetime(year=2015, month=1, day=1), datetime(year=2015, month=12, day=31)),\n",
    "#     (2016, datetime(year=2016, month=1, day=1), datetime(year=2016, month=12, day=31)),\n",
    "#     (2017, datetime(year=2017, month=1, day=1), datetime(year=2017, month=12, day=31)),\n",
    "#     (2020, datetime(year=2020, month=1, day=1), datetime(year=2020, month=12, day=31)),\n",
    "    (2021, datetime(year=2021, month=1, day=1), datetime(year=2021, month=12, day=31)),\n",
    "]"
   ]
  },
  {
   "cell_type": "code",
   "execution_count": 9,
   "id": "68cedeaf",
   "metadata": {
    "ExecuteTime": {
     "end_time": "2022-05-05T16:57:32.123251Z",
     "start_time": "2022-05-05T16:57:32.120573Z"
    }
   },
   "outputs": [],
   "source": [
    "def boundingbox_distance(y, x, distance):\n",
    "    y_func = (distance / 6371000.0) * (180.0 / np.pi)\n",
    "    x_func = (distance / 6371000.0) * (180.0 / np.pi) / np.cos(y * np.pi / 180.0)\n",
    "    # Calculates the involving bounding box given a centroid and the square-side size\n",
    "    return {\"ymin\": y - y_func, \"xmin\": x - x_func, \"ymax\": y + y_func, \"xmax\": x + x_func}"
   ]
  },
  {
   "cell_type": "code",
   "execution_count": 10,
   "id": "bca62aba",
   "metadata": {
    "ExecuteTime": {
     "end_time": "2022-05-05T16:57:32.126921Z",
     "start_time": "2022-05-05T16:57:32.124092Z"
    }
   },
   "outputs": [],
   "source": [
    "def extract_data(data_input):\n",
    "    rid, mpa = data_input\n",
    "    for yyyy, t0, t1 in temporal_range:\n",
    "        for extra_radius in [0, 1000, 2500, 5000, 7500, 10000]:\n",
    "            search_radius = (np.sqrt(np.float(mpa.Shape_Area))) + extra_radius\n",
    "            bb_distance = boundingbox_distance(x=np.float(mpa.LONG), y=np.float(mpa.LAT), distance=search_radius)\n",
    "            vessel_list = DBQuery(start=t0, end=t1, callback=sqlfcn_callbacks.in_bbox_time, **bb_distance)\n",
    "            vessel_list.check_idx()  # Check if tables exist and indexes are built\n",
    "            vessel_list = np.vstack(vessel_list.gen_qry())  # Generate and run the query on AISDB\n",
    "            f = open(\"pkl/%02d-%04d-%05d.pkl\" % (rid, yyyy, extra_radius), \"wb\")\n",
    "            pkl.dump([vessel_list, search_radius], f, pkl.HIGHEST_PROTOCOL)\n",
    "            f.close()  # required when parallel processing\n",
    "            columns = TrackGen([vessel_list]).gi_frame.f_locals[\"colnames\"]\n",
    "            try:\n",
    "                df = pd.DataFrame(vessel_list, columns=columns)\n",
    "                df = df.sort_values(by=[\"mmsi\", \"time\"], axis=0)\n",
    "            except:\n",
    "                df = pd.DataFrame([], columns=columns)\n",
    "            df.to_csv(\"csv/%02d-%04d-%05d.csv\" % (rid, yyyy, extra_radius))"
   ]
  },
  {
   "cell_type": "code",
   "execution_count": 11,
   "id": "bc720ad7",
   "metadata": {
    "ExecuteTime": {
     "start_time": "2022-05-05T16:57:48.830Z"
    },
    "scrolled": true
   },
   "outputs": [],
   "source": [
    "%%capture\n",
    "process_map(extract_data, mpa_locations.iterrows(), max_workers=multiprocessing.cpu_count(), disable=True)"
   ]
  }
 ],
 "metadata": {
  "kernelspec": {
   "display_name": "Python (py310)",
   "language": "python",
   "name": "py310"
  },
  "language_info": {
   "codemirror_mode": {
    "name": "ipython",
    "version": 3
   },
   "file_extension": ".py",
   "mimetype": "text/x-python",
   "name": "python",
   "nbconvert_exporter": "python",
   "pygments_lexer": "ipython3",
   "version": "3.10.4"
  },
  "varInspector": {
   "cols": {
    "lenName": 16,
    "lenType": 16,
    "lenVar": 40
   },
   "kernels_config": {
    "python": {
     "delete_cmd_postfix": "",
     "delete_cmd_prefix": "del ",
     "library": "var_list.py",
     "varRefreshCmd": "print(var_dic_list())"
    },
    "r": {
     "delete_cmd_postfix": ") ",
     "delete_cmd_prefix": "rm(",
     "library": "var_list.r",
     "varRefreshCmd": "cat(var_dic_list()) "
    }
   },
   "types_to_exclude": [
    "module",
    "function",
    "builtin_function_or_method",
    "instance",
    "_Feature"
   ],
   "window_display": false
  }
 },
 "nbformat": 4,
 "nbformat_minor": 5
}
